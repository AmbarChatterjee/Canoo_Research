{
 "cells": [
  {
   "cell_type": "markdown",
   "metadata": {},
   "source": [
    "# Internship Assignment 2024 Coding Challenge\n",
    "## AI/ML Engineering Intern\n",
    "### AI/ML Internship 2024 | Lizmotors Mobility Pvt ltd."
   ]
  },
  {
   "cell_type": "markdown",
   "metadata": {},
   "source": [
    "----------------"
   ]
  },
  {
   "cell_type": "markdown",
   "metadata": {},
   "source": [
    "##### Set Up Environment"
   ]
  },
  {
   "cell_type": "code",
   "execution_count": 1,
   "metadata": {},
   "outputs": [],
   "source": [
    "# Install the latest version of the google-generativeai package\n",
    "!pip install -q -U google-generativeai"
   ]
  },
  {
   "cell_type": "markdown",
   "metadata": {},
   "source": [
    "--------------"
   ]
  },
  {
   "cell_type": "markdown",
   "metadata": {},
   "source": [
    "##### Python Script"
   ]
  },
  {
   "cell_type": "code",
   "execution_count": 2,
   "metadata": {},
   "outputs": [
    {
     "name": "stdout",
     "output_type": "stream",
     "text": [
      "All responses have been saved to gemini_pro_responses.json.\n"
     ]
    }
   ],
   "source": [
    "# Import the required libraries\n",
    "import json\n",
    "import google.generativeai as genai\n",
    "\n",
    "# Replace GOOGLE_API_KEY with the actual Gemini Pro API key\n",
    "GOOGLE_API_KEY = \"api_key_here\"\n",
    "\n",
    "# Function to query the Gemini Pro model with a prompt and get the response\n",
    "def query_gemini_pro(prompt):\n",
    "    # Configure the API key for the Gemini Pro model\n",
    "    genai.configure(api_key=GOOGLE_API_KEY)\n",
    "    # Create the model instance for Gemini Pro\n",
    "    model = genai.GenerativeModel('gemini-pro')\n",
    "    # Make the API call and get the response from the model\n",
    "    response = model.generate_content(prompt)\n",
    "    # Return the response text\n",
    "    return response.text\n",
    "\n",
    "# Define the prompts as per the user's request for information\n",
    "prompts = {\n",
    "    \"industry_information\": \"Identify the industry in which Canoo operates, along with its size, growth rate, trends, and key players.\",\n",
    "    \"competitor_analysis\": \"Analyze Canoo's main competitors, including their market share, products or services offered, pricing strategies, and marketing efforts.\",\n",
    "    \"market_trends\": \"Identify Canoo's key trends in the market, including changes in consumer behavior, technological advancements, and shifts in the competitive landscape.\",\n",
    "    \"financial_performance\": \"Gather information on Canoo's financial performance, including its revenue, profit margins, return on investment, and expense structure.\"\n",
    "}\n",
    "\n",
    "\n",
    "# Dictionary to store responses for each prompt\n",
    "responses = {}\n",
    "\n",
    "# Loop through each prompt and get the response from the API model\n",
    "for key, prompt in prompts.items():\n",
    "    # Get the response text for the prompt\n",
    "    response_text = query_gemini_pro(prompt)\n",
    "    # Store the response in the dictionary\n",
    "    responses[prompt] = response_text\n",
    "\n",
    "# Save the responses to a JSON file for future reference\n",
    "with open('gemini_pro_responses.json', 'w') as json_file:\n",
    "    # Write the responses to the JSON file\n",
    "    json.dump(responses, json_file, indent=4)\n",
    "    \n",
    "# Print a message to indicate that the responses have been saved\n",
    "print(\"All responses have been saved to gemini_pro_responses.json.\")"
   ]
  },
  {
   "cell_type": "markdown",
   "metadata": {},
   "source": [
    "------------"
   ]
  },
  {
   "cell_type": "markdown",
   "metadata": {},
   "source": [
    "##### Summary of Steps Taken in the Python Script"
   ]
  },
  {
   "cell_type": "markdown",
   "metadata": {},
   "source": [
    "The Python script performs the following steps:\n",
    "\n",
    "1. **Set Up Environment:**\n",
    "   - The script starts by installing the latest version of the `google-generativeai` package, which is necessary to interact with Google's Gemini Pro AI model.\n",
    "\n",
    "2. **Import Libraries:**\n",
    "   - Next, the script imports the `json` library for JSON file manipulations and the `google.generativeai` library to use the Gemini Pro AI model.\n",
    "\n",
    "3. **API Key Configuration:**\n",
    "   - The script sets the `GOOGLE_API_KEY` variable with a placeholder API key (this should be replaced with a valid API key).\n",
    "\n",
    "4. **Function Definition:**\n",
    "   - A function `query_gemini_pro` is defined to send a prompt to the Gemini Pro model and receive a response. This function sets up the API key, creates a model instance, sends the prompt, and returns the response text.\n",
    "\n",
    "5. **Prompts Dictionary:**\n",
    "   - A dictionary `prompts` is created, containing different prompts as keys and their descriptions as values. These cover various topics such as industry information, competitor analysis, market trends, and financial performance for Canoo.\n",
    "\n",
    "6. **Response Collection:**\n",
    "   - The script iterates over the prompts dictionary, using the `query_gemini_pro` function to get responses from the Gemini Pro model for each prompt.\n",
    "\n",
    "7. **Saving Responses:**\n",
    "   - The responses are stored in a dictionary `responses` and then saved to a JSON file called `gemini_pro_responses.json`.\n",
    "\n",
    "8. **Completion Message:**\n",
    "   - Finally, the script prints a message indicating that the responses have been saved successfully."
   ]
  },
  {
   "cell_type": "markdown",
   "metadata": {},
   "source": [
    "-----------"
   ]
  },
  {
   "cell_type": "markdown",
   "metadata": {},
   "source": [
    "##### Challenges and Solutions"
   ]
  },
  {
   "cell_type": "markdown",
   "metadata": {},
   "source": [
    "While the script is meant to be straightforward, there are several potential challenges that might arise:\n",
    "\n",
    "1. **API Key Security:**\n",
    "   - Challenge: The API key is hardcoded in the script, which is a security risk.\n",
    "   - Solution: Replace the hardcoded key with a secure method of storing and retrieving API keys, such as environment variables or a secrets management service.\n",
    "\n",
    "2. **Error Handling:**\n",
    "   - Challenge: The script does not include any error handling, so if the API call fails or there is an issue with the network, the script may crash or behave unpredictably.\n",
    "   - Solution: Add try-except blocks to handle exceptions and provide meaningful error messages to the user.\n",
    "\n",
    "3. **Rate Limiting and Quotas:**\n",
    "   - Challenge: The API might have rate limits or quotas which, if exceeded, could lead to errors or blocked requests.\n",
    "   - Solution: Implement logic to handle rate limiting, such as retrying after a delay, and ensure the script stays within the quota limits.\n",
    "\n",
    "4. **API Response Validation:**\n",
    "   - Challenge: The script assumes that the API response will always contain the expected content.\n",
    "   - Solution: Add checks to validate the API response before attempting to use it, and handle cases where the response may not be in the expected format.\n",
    "\n",
    "5. **Dependency Management:**\n",
    "   - Challenge: Dependency on an external package (`google-generativeai`) means that if the package is updated and introduces breaking changes, the script might stop working.\n",
    "   - Solution: Use a virtual environment to lock the package version and test the script whenever updating dependencies."
   ]
  },
  {
   "cell_type": "markdown",
   "metadata": {},
   "source": [
    "-----------"
   ]
  }
 ],
 "metadata": {
  "kernelspec": {
   "display_name": "base",
   "language": "python",
   "name": "python3"
  },
  "language_info": {
   "codemirror_mode": {
    "name": "ipython",
    "version": 3
   },
   "file_extension": ".py",
   "mimetype": "text/x-python",
   "name": "python",
   "nbconvert_exporter": "python",
   "pygments_lexer": "ipython3",
   "version": "3.11.5"
  }
 },
 "nbformat": 4,
 "nbformat_minor": 2
}
